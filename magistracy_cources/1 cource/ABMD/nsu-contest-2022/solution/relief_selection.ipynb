{
 "cells": [
  {
   "cell_type": "code",
   "execution_count": 3,
   "metadata": {
    "collapsed": true
   },
   "outputs": [],
   "source": [
    "import numpy as np\n",
    "import pandas as pd\n",
    "from skrebate.vlsrelief import VLSRelief"
   ]
  },
  {
   "cell_type": "code",
   "execution_count": 4,
   "outputs": [],
   "source": [
    "train = pd.read_csv('../processed-datasets/small-train.csv', index_col=False)"
   ],
   "metadata": {
    "collapsed": false
   }
  },
  {
   "cell_type": "code",
   "execution_count": 5,
   "outputs": [],
   "source": [
    "def process_df(df: pd.DataFrame, is_train: bool) -> pd.DataFrame:\n",
    "    df = df.drop('Color', axis=1)\n",
    "    df['Rating'] = df['Rating'].str.replace(',', '.')\n",
    "    df['Rating'] = df['Rating'].astype(float)\n",
    "\n",
    "    # if is_train:\n",
    "    #     df['Brand weight'] = \"\"\n",
    "    #     for category in df['Brand'].unique():\n",
    "    #         total_rating = df.loc[df['Brand'] == category].count() / df.shape[0]\n",
    "    #         df.loc[df['Brand'] == category, 'Brand weight'] = total_rating\n",
    "\n",
    "    df = df.drop([\n",
    "        'Name',\n",
    "        'Category',\n",
    "        'Max price',\n",
    "        'Min price',\n",
    "        'Final price',\n",
    "        'Average price',\n",
    "        'full_category',\n",
    "        'Basic Sale Price',\n",
    "        'Seller',\n",
    "        'Base price'\n",
    "    ], axis=1)\n",
    "    df['Days in stock/sales'] = df['Days with sales'].div(df['Days in stock'], axis=0).apply(\n",
    "        lambda x: 1.0 if x >= 1.0 else x)\n",
    "    df['Comments-Rating'] = df['Comments'] * df['Rating']\n",
    "    df['Rating-Days-Comments'] = np.exp(df['Days with sales']) * df['Rating'] * df['Comments']\n",
    "\n",
    "    return df.dropna() if is_train else df"
   ],
   "metadata": {
    "collapsed": false
   }
  },
  {
   "cell_type": "code",
   "execution_count": 6,
   "outputs": [
    {
     "data": {
      "text/plain": "                          Brand  Comments  Sales  Days in stock  \\\n0                         Bosch         0      2             23   \n1                     Red Beard         5      4              4   \n2    Данилов Иван Валерьевич ИП         0      2              5   \n3                        RIPOMA         1      1             27   \n4                           ARC         4     47             20   \n..                          ...       ...    ...            ...   \n112                      BIRONI         0      5             31   \n113                      BASEUS         0      0              9   \n114                      Sid&Ko         0      2             31   \n115                   TM SAKURA        20      6             30   \n116                     OURSSON        11      3             31   \n\n     Days with sales  Rating  Basic Sale  Days in stock/sales  \\\n0                  2     0.0           0             0.086957   \n1                  3     5.0          50             0.750000   \n2                  2     0.0           0             0.400000   \n3                  1     2.0          70             0.037037   \n4                 18     5.0          25             0.900000   \n..               ...     ...         ...                  ...   \n112                1     0.0           0             0.032258   \n113                0     0.0          20             0.000000   \n114                2     0.0          30             0.064516   \n115                4     3.0          33             0.133333   \n116                3     3.0          40             0.096774   \n\n     Comments-Rating  Rating-Days-Comments  \n0                0.0          0.000000e+00  \n1               25.0          5.021384e+02  \n2                0.0          0.000000e+00  \n3                2.0          5.436564e+00  \n4               20.0          1.313199e+09  \n..               ...                   ...  \n112              0.0          0.000000e+00  \n113              0.0          0.000000e+00  \n114              0.0          0.000000e+00  \n115             60.0          3.275889e+03  \n116             33.0          6.628227e+02  \n\n[110 rows x 10 columns]",
      "text/html": "<div>\n<style scoped>\n    .dataframe tbody tr th:only-of-type {\n        vertical-align: middle;\n    }\n\n    .dataframe tbody tr th {\n        vertical-align: top;\n    }\n\n    .dataframe thead th {\n        text-align: right;\n    }\n</style>\n<table border=\"1\" class=\"dataframe\">\n  <thead>\n    <tr style=\"text-align: right;\">\n      <th></th>\n      <th>Brand</th>\n      <th>Comments</th>\n      <th>Sales</th>\n      <th>Days in stock</th>\n      <th>Days with sales</th>\n      <th>Rating</th>\n      <th>Basic Sale</th>\n      <th>Days in stock/sales</th>\n      <th>Comments-Rating</th>\n      <th>Rating-Days-Comments</th>\n    </tr>\n  </thead>\n  <tbody>\n    <tr>\n      <th>0</th>\n      <td>Bosch</td>\n      <td>0</td>\n      <td>2</td>\n      <td>23</td>\n      <td>2</td>\n      <td>0.0</td>\n      <td>0</td>\n      <td>0.086957</td>\n      <td>0.0</td>\n      <td>0.000000e+00</td>\n    </tr>\n    <tr>\n      <th>1</th>\n      <td>Red Beard</td>\n      <td>5</td>\n      <td>4</td>\n      <td>4</td>\n      <td>3</td>\n      <td>5.0</td>\n      <td>50</td>\n      <td>0.750000</td>\n      <td>25.0</td>\n      <td>5.021384e+02</td>\n    </tr>\n    <tr>\n      <th>2</th>\n      <td>Данилов Иван Валерьевич ИП</td>\n      <td>0</td>\n      <td>2</td>\n      <td>5</td>\n      <td>2</td>\n      <td>0.0</td>\n      <td>0</td>\n      <td>0.400000</td>\n      <td>0.0</td>\n      <td>0.000000e+00</td>\n    </tr>\n    <tr>\n      <th>3</th>\n      <td>RIPOMA</td>\n      <td>1</td>\n      <td>1</td>\n      <td>27</td>\n      <td>1</td>\n      <td>2.0</td>\n      <td>70</td>\n      <td>0.037037</td>\n      <td>2.0</td>\n      <td>5.436564e+00</td>\n    </tr>\n    <tr>\n      <th>4</th>\n      <td>ARC</td>\n      <td>4</td>\n      <td>47</td>\n      <td>20</td>\n      <td>18</td>\n      <td>5.0</td>\n      <td>25</td>\n      <td>0.900000</td>\n      <td>20.0</td>\n      <td>1.313199e+09</td>\n    </tr>\n    <tr>\n      <th>...</th>\n      <td>...</td>\n      <td>...</td>\n      <td>...</td>\n      <td>...</td>\n      <td>...</td>\n      <td>...</td>\n      <td>...</td>\n      <td>...</td>\n      <td>...</td>\n      <td>...</td>\n    </tr>\n    <tr>\n      <th>112</th>\n      <td>BIRONI</td>\n      <td>0</td>\n      <td>5</td>\n      <td>31</td>\n      <td>1</td>\n      <td>0.0</td>\n      <td>0</td>\n      <td>0.032258</td>\n      <td>0.0</td>\n      <td>0.000000e+00</td>\n    </tr>\n    <tr>\n      <th>113</th>\n      <td>BASEUS</td>\n      <td>0</td>\n      <td>0</td>\n      <td>9</td>\n      <td>0</td>\n      <td>0.0</td>\n      <td>20</td>\n      <td>0.000000</td>\n      <td>0.0</td>\n      <td>0.000000e+00</td>\n    </tr>\n    <tr>\n      <th>114</th>\n      <td>Sid&amp;Ko</td>\n      <td>0</td>\n      <td>2</td>\n      <td>31</td>\n      <td>2</td>\n      <td>0.0</td>\n      <td>30</td>\n      <td>0.064516</td>\n      <td>0.0</td>\n      <td>0.000000e+00</td>\n    </tr>\n    <tr>\n      <th>115</th>\n      <td>TM SAKURA</td>\n      <td>20</td>\n      <td>6</td>\n      <td>30</td>\n      <td>4</td>\n      <td>3.0</td>\n      <td>33</td>\n      <td>0.133333</td>\n      <td>60.0</td>\n      <td>3.275889e+03</td>\n    </tr>\n    <tr>\n      <th>116</th>\n      <td>OURSSON</td>\n      <td>11</td>\n      <td>3</td>\n      <td>31</td>\n      <td>3</td>\n      <td>3.0</td>\n      <td>40</td>\n      <td>0.096774</td>\n      <td>33.0</td>\n      <td>6.628227e+02</td>\n    </tr>\n  </tbody>\n</table>\n<p>110 rows × 10 columns</p>\n</div>"
     },
     "execution_count": 6,
     "metadata": {},
     "output_type": "execute_result"
    }
   ],
   "source": [
    "origin_train = process_df(train, True)\n",
    "\n",
    "origin_train"
   ],
   "metadata": {
    "collapsed": false
   }
  },
  {
   "cell_type": "code",
   "execution_count": 7,
   "outputs": [
    {
     "data": {
      "text/plain": "(110, 10)"
     },
     "execution_count": 7,
     "metadata": {},
     "output_type": "execute_result"
    }
   ],
   "source": [
    "origin_train.shape"
   ],
   "metadata": {
    "collapsed": false
   }
  },
  {
   "cell_type": "code",
   "execution_count": 11,
   "outputs": [
    {
     "name": "stdout",
     "output_type": "stream",
     "text": [
      "['1' 'Brand' 'Comments' 'Days in stock' 'Days with sales' 'Rating'\n",
      " 'Basic Sale' 'Days in stock/sales' 'Comments-Rating'\n",
      " 'Rating-Days-Comments' 'Brand^2' 'Brand Comments' 'Brand Days in stock'\n",
      " 'Brand Days with sales' 'Brand Rating' 'Brand Basic Sale'\n",
      " 'Brand Days in stock/sales' 'Brand Comments-Rating'\n",
      " 'Brand Rating-Days-Comments' 'Comments^2' 'Comments Days in stock'\n",
      " 'Comments Days with sales' 'Comments Rating' 'Comments Basic Sale'\n",
      " 'Comments Days in stock/sales' 'Comments Comments-Rating'\n",
      " 'Comments Rating-Days-Comments' 'Days in stock^2'\n",
      " 'Days in stock Days with sales' 'Days in stock Rating'\n",
      " 'Days in stock Basic Sale' 'Days in stock Days in stock/sales'\n",
      " 'Days in stock Comments-Rating' 'Days in stock Rating-Days-Comments'\n",
      " 'Days with sales^2' 'Days with sales Rating' 'Days with sales Basic Sale'\n",
      " 'Days with sales Days in stock/sales' 'Days with sales Comments-Rating'\n",
      " 'Days with sales Rating-Days-Comments' 'Rating^2' 'Rating Basic Sale'\n",
      " 'Rating Days in stock/sales' 'Rating Comments-Rating'\n",
      " 'Rating Rating-Days-Comments' 'Basic Sale^2'\n",
      " 'Basic Sale Days in stock/sales' 'Basic Sale Comments-Rating'\n",
      " 'Basic Sale Rating-Days-Comments' 'Days in stock/sales^2'\n",
      " 'Days in stock/sales Comments-Rating'\n",
      " 'Days in stock/sales Rating-Days-Comments' 'Comments-Rating^2'\n",
      " 'Comments-Rating Rating-Days-Comments' 'Rating-Days-Comments^2']\n",
      "Created distance array in 0.0011277198791503906 seconds.\n",
      "Feature scoring under way ...\n",
      "Completed scoring in 0.18781828880310059 seconds.\n",
      "Created distance array in 0.0005011558532714844 seconds.\n",
      "Feature scoring under way ...\n",
      "Completed scoring in 0.17632746696472168 seconds.\n",
      "Created distance array in 0.0005037784576416016 seconds.\n",
      "Feature scoring under way ...\n",
      "Completed scoring in 0.18745756149291992 seconds.\n",
      "Created distance array in 0.0008189678192138672 seconds.\n",
      "Feature scoring under way ...\n",
      "Completed scoring in 0.1929340362548828 seconds.\n",
      "Created distance array in 0.0005109310150146484 seconds.\n",
      "Feature scoring under way ...\n",
      "Completed scoring in 0.17758393287658691 seconds.\n",
      "Created distance array in 0.0005156993865966797 seconds.\n",
      "Feature scoring under way ...\n",
      "Completed scoring in 0.17914986610412598 seconds.\n",
      "Created distance array in 0.0004756450653076172 seconds.\n",
      "Feature scoring under way ...\n",
      "Completed scoring in 0.1761775016784668 seconds.\n",
      "Created distance array in 0.0004611015319824219 seconds.\n",
      "Feature scoring under way ...\n",
      "Completed scoring in 0.17464995384216309 seconds.\n",
      "Created distance array in 0.0004780292510986328 seconds.\n",
      "Feature scoring under way ...\n",
      "Completed scoring in 0.17529630661010742 seconds.\n",
      "Created distance array in 0.0004584789276123047 seconds.\n",
      "Feature scoring under way ...\n",
      "Completed scoring in 0.1759045124053955 seconds.\n",
      "Created distance array in 0.00047659873962402344 seconds.\n",
      "Feature scoring under way ...\n",
      "Completed scoring in 0.17455244064331055 seconds.\n",
      "Created distance array in 0.0004980564117431641 seconds.\n",
      "Feature scoring under way ...\n",
      "Completed scoring in 0.17303895950317383 seconds.\n",
      "Created distance array in 0.00046753883361816406 seconds.\n",
      "Feature scoring under way ...\n",
      "Completed scoring in 0.16971325874328613 seconds.\n",
      "Created distance array in 0.00048732757568359375 seconds.\n",
      "Feature scoring under way ...\n",
      "Completed scoring in 0.17339181900024414 seconds.\n",
      "Created distance array in 0.0006234645843505859 seconds.\n",
      "Feature scoring under way ...\n",
      "Completed scoring in 0.17463159561157227 seconds.\n",
      "Created distance array in 0.0004703998565673828 seconds.\n",
      "Feature scoring under way ...\n",
      "Completed scoring in 0.1769566535949707 seconds.\n",
      "Created distance array in 0.0005164146423339844 seconds.\n",
      "Feature scoring under way ...\n",
      "Completed scoring in 0.1697847843170166 seconds.\n",
      "Created distance array in 0.00046443939208984375 seconds.\n",
      "Feature scoring under way ...\n",
      "Completed scoring in 0.1787433624267578 seconds.\n",
      "Created distance array in 0.0006537437438964844 seconds.\n",
      "Feature scoring under way ...\n",
      "Completed scoring in 0.1806650161743164 seconds.\n",
      "Created distance array in 0.0004813671112060547 seconds.\n",
      "Feature scoring under way ...\n",
      "Completed scoring in 0.17807817459106445 seconds.\n"
     ]
    },
    {
     "data": {
      "text/plain": "VLSRelief(core_algorithm='surfstar', n_features_to_select=5, verbose=True)",
      "text/html": "<style>#sk-container-id-2 {color: black;background-color: white;}#sk-container-id-2 pre{padding: 0;}#sk-container-id-2 div.sk-toggleable {background-color: white;}#sk-container-id-2 label.sk-toggleable__label {cursor: pointer;display: block;width: 100%;margin-bottom: 0;padding: 0.3em;box-sizing: border-box;text-align: center;}#sk-container-id-2 label.sk-toggleable__label-arrow:before {content: \"▸\";float: left;margin-right: 0.25em;color: #696969;}#sk-container-id-2 label.sk-toggleable__label-arrow:hover:before {color: black;}#sk-container-id-2 div.sk-estimator:hover label.sk-toggleable__label-arrow:before {color: black;}#sk-container-id-2 div.sk-toggleable__content {max-height: 0;max-width: 0;overflow: hidden;text-align: left;background-color: #f0f8ff;}#sk-container-id-2 div.sk-toggleable__content pre {margin: 0.2em;color: black;border-radius: 0.25em;background-color: #f0f8ff;}#sk-container-id-2 input.sk-toggleable__control:checked~div.sk-toggleable__content {max-height: 200px;max-width: 100%;overflow: auto;}#sk-container-id-2 input.sk-toggleable__control:checked~label.sk-toggleable__label-arrow:before {content: \"▾\";}#sk-container-id-2 div.sk-estimator input.sk-toggleable__control:checked~label.sk-toggleable__label {background-color: #d4ebff;}#sk-container-id-2 div.sk-label input.sk-toggleable__control:checked~label.sk-toggleable__label {background-color: #d4ebff;}#sk-container-id-2 input.sk-hidden--visually {border: 0;clip: rect(1px 1px 1px 1px);clip: rect(1px, 1px, 1px, 1px);height: 1px;margin: -1px;overflow: hidden;padding: 0;position: absolute;width: 1px;}#sk-container-id-2 div.sk-estimator {font-family: monospace;background-color: #f0f8ff;border: 1px dotted black;border-radius: 0.25em;box-sizing: border-box;margin-bottom: 0.5em;}#sk-container-id-2 div.sk-estimator:hover {background-color: #d4ebff;}#sk-container-id-2 div.sk-parallel-item::after {content: \"\";width: 100%;border-bottom: 1px solid gray;flex-grow: 1;}#sk-container-id-2 div.sk-label:hover label.sk-toggleable__label {background-color: #d4ebff;}#sk-container-id-2 div.sk-serial::before {content: \"\";position: absolute;border-left: 1px solid gray;box-sizing: border-box;top: 0;bottom: 0;left: 50%;z-index: 0;}#sk-container-id-2 div.sk-serial {display: flex;flex-direction: column;align-items: center;background-color: white;padding-right: 0.2em;padding-left: 0.2em;position: relative;}#sk-container-id-2 div.sk-item {position: relative;z-index: 1;}#sk-container-id-2 div.sk-parallel {display: flex;align-items: stretch;justify-content: center;background-color: white;position: relative;}#sk-container-id-2 div.sk-item::before, #sk-container-id-2 div.sk-parallel-item::before {content: \"\";position: absolute;border-left: 1px solid gray;box-sizing: border-box;top: 0;bottom: 0;left: 50%;z-index: -1;}#sk-container-id-2 div.sk-parallel-item {display: flex;flex-direction: column;z-index: 1;position: relative;background-color: white;}#sk-container-id-2 div.sk-parallel-item:first-child::after {align-self: flex-end;width: 50%;}#sk-container-id-2 div.sk-parallel-item:last-child::after {align-self: flex-start;width: 50%;}#sk-container-id-2 div.sk-parallel-item:only-child::after {width: 0;}#sk-container-id-2 div.sk-dashed-wrapped {border: 1px dashed gray;margin: 0 0.4em 0.5em 0.4em;box-sizing: border-box;padding-bottom: 0.4em;background-color: white;}#sk-container-id-2 div.sk-label label {font-family: monospace;font-weight: bold;display: inline-block;line-height: 1.2em;}#sk-container-id-2 div.sk-label-container {text-align: center;}#sk-container-id-2 div.sk-container {/* jupyter's `normalize.less` sets `[hidden] { display: none; }` but bootstrap.min.css set `[hidden] { display: none !important; }` so we also need the `!important` here to be able to override the default hidden behavior on the sphinx rendered scikit-learn.org. See: https://github.com/scikit-learn/scikit-learn/issues/21755 */display: inline-block !important;position: relative;}#sk-container-id-2 div.sk-text-repr-fallback {display: none;}</style><div id=\"sk-container-id-2\" class=\"sk-top-container\"><div class=\"sk-text-repr-fallback\"><pre>VLSRelief(core_algorithm=&#x27;surfstar&#x27;, n_features_to_select=5, verbose=True)</pre><b>In a Jupyter environment, please rerun this cell to show the HTML representation or trust the notebook. <br />On GitHub, the HTML representation is unable to render, please try loading this page with nbviewer.org.</b></div><div class=\"sk-container\" hidden><div class=\"sk-item\"><div class=\"sk-estimator sk-toggleable\"><input class=\"sk-toggleable__control sk-hidden--visually\" id=\"sk-estimator-id-2\" type=\"checkbox\" checked><label for=\"sk-estimator-id-2\" class=\"sk-toggleable__label sk-toggleable__label-arrow\">VLSRelief</label><div class=\"sk-toggleable__content\"><pre>VLSRelief(core_algorithm=&#x27;surfstar&#x27;, n_features_to_select=5, verbose=True)</pre></div></div></div></div></div>"
     },
     "execution_count": 11,
     "metadata": {},
     "output_type": "execute_result"
    }
   ],
   "source": [
    "from sklearn.preprocessing import PolynomialFeatures, LabelEncoder\n",
    "\n",
    "features = origin_train.drop(['Sales'], axis=1).apply(LabelEncoder().fit_transform)\n",
    "\n",
    "poly = PolynomialFeatures(degree=2)\n",
    "transformed_features = poly.fit_transform(features)\n",
    "target = origin_train['Sales']\n",
    "\n",
    "poly_feature_headers = poly.get_feature_names_out(features.columns.values)\n",
    "print(poly_feature_headers)\n",
    "\n",
    "vls = VLSRelief(\"surfstar\", n_features_to_select=5, verbose=True)\n",
    "res: VLSRelief = vls.fit(X=transformed_features, y=target.values, headers=poly_feature_headers)\n",
    "\n",
    "res"
   ],
   "metadata": {
    "collapsed": false
   }
  },
  {
   "cell_type": "code",
   "execution_count": 12,
   "outputs": [
    {
     "data": {
      "text/plain": "array([[ 4.10000000e+01,  1.01254042e-01],\n       [ 2.90000000e+01,  5.00813453e-02],\n       [ 4.80000000e+01,  2.55878705e-02],\n       [ 0.00000000e+00,  0.00000000e+00],\n       [ 4.00000000e+01, -1.81818182e-02],\n       [ 4.70000000e+01, -2.16900642e-02],\n       [ 2.30000000e+01, -3.80386635e-02],\n       [ 3.60000000e+01, -4.27135025e-02],\n       [ 4.50000000e+01, -4.49082798e-02],\n       [ 4.60000000e+01, -5.50975471e-02],\n       [ 3.00000000e+01, -5.77817248e-02],\n       [ 1.50000000e+01, -5.79036754e-02],\n       [ 3.30000000e+01, -6.00807538e-02],\n       [ 2.70000000e+01, -9.26582740e-02],\n       [ 3.00000000e+00, -9.89490641e-02],\n       [ 6.00000000e+00, -1.07949157e-01],\n       [ 1.40000000e+01, -1.11019166e-01],\n       [ 5.00000000e+00, -1.22315475e-01],\n       [ 1.20000000e+01, -1.33002498e-01],\n       [ 1.60000000e+01, -1.54540076e-01],\n       [ 2.80000000e+01, -1.59670505e-01],\n       [ 9.00000000e+00, -1.59726160e-01],\n       [ 1.00000000e+01, -1.60054142e-01],\n       [ 3.20000000e+01, -1.60931478e-01],\n       [ 1.00000000e+00, -1.64049282e-01],\n       [ 3.10000000e+01, -1.73168361e-01],\n       [ 4.40000000e+01, -1.75118866e-01],\n       [ 1.10000000e+01, -1.95370082e-01],\n       [ 2.00000000e+01, -2.01769307e-01],\n       [ 4.20000000e+01, -2.08817839e-01],\n       [ 5.40000000e+01, -2.09909093e-01],\n       [ 1.70000000e+01, -2.19774436e-01],\n       [ 1.80000000e+01, -2.20601453e-01],\n       [ 7.00000000e+00, -2.46844500e-01],\n       [ 1.30000000e+01, -2.60743986e-01],\n       [ 3.50000000e+01, -2.62171621e-01],\n       [ 2.20000000e+01, -2.67389656e-01],\n       [ 2.50000000e+01, -2.67413124e-01],\n       [ 3.90000000e+01, -2.76773089e-01],\n       [ 4.90000000e+01, -2.77606765e-01],\n       [ 8.00000000e+00, -2.80116011e-01],\n       [ 1.90000000e+01, -2.80292676e-01],\n       [ 2.00000000e+00, -2.85644858e-01],\n       [ 4.00000000e+00, -3.10689840e-01],\n       [ 4.30000000e+01, -3.16085481e-01],\n       [ 5.10000000e+01, -3.30593627e-01],\n       [ 5.20000000e+01, -3.31613591e-01],\n       [ 2.40000000e+01, -3.51552559e-01],\n       [ 3.70000000e+01, -3.61780735e-01],\n       [ 5.00000000e+01, -3.70723628e-01],\n       [ 2.60000000e+01, -3.83335491e-01],\n       [ 2.10000000e+01, -3.93961032e-01],\n       [ 5.30000000e+01, -4.07754697e-01],\n       [ 3.80000000e+01, -4.10836454e-01]])"
     },
     "execution_count": 12,
     "metadata": {},
     "output_type": "execute_result"
    }
   ],
   "source": [
    "np.array(res.feat_score)[res.top_features_]"
   ],
   "metadata": {
    "collapsed": false
   }
  },
  {
   "cell_type": "code",
   "execution_count": 13,
   "outputs": [
    {
     "data": {
      "text/plain": "       Score                                      Name\n0   0.101254                                  Rating^2\n1   0.050081                      Days in stock Rating\n2   0.025588                Basic Sale Comments-Rating\n3   0.000000                                         1\n4  -0.018182      Days with sales Rating-Days-Comments\n5  -0.021690            Basic Sale Days in stock/sales\n6  -0.038039                       Comments Basic Sale\n7  -0.042714                    Days with sales Rating\n8  -0.044908               Rating Rating-Days-Comments\n9  -0.055098                              Basic Sale^2\n10 -0.057782                  Days in stock Basic Sale\n11 -0.057904                          Brand Basic Sale\n12 -0.060081        Days in stock Rating-Days-Comments\n13 -0.092658                           Days in stock^2\n14 -0.098949                             Days in stock\n15 -0.107949                                Basic Sale\n16 -0.111019                              Brand Rating\n17 -0.122315                                    Rating\n18 -0.133002                       Brand Days in stock\n19 -0.154540                 Brand Days in stock/sales\n20 -0.159671             Days in stock Days with sales\n21 -0.159726                      Rating-Days-Comments\n22 -0.160054                                   Brand^2\n23 -0.160931             Days in stock Comments-Rating\n24 -0.164049                                     Brand\n25 -0.173168         Days in stock Days in stock/sales\n26 -0.175119                    Rating Comments-Rating\n27 -0.195370                            Brand Comments\n28 -0.201769                    Comments Days in stock\n29 -0.208818                         Rating Basic Sale\n30 -0.209909      Comments-Rating Rating-Days-Comments\n31 -0.219774                     Brand Comments-Rating\n32 -0.220601                Brand Rating-Days-Comments\n33 -0.246845                       Days in stock/sales\n34 -0.260744                     Brand Days with sales\n35 -0.262172                         Days with sales^2\n36 -0.267390                           Comments Rating\n37 -0.267413                  Comments Comments-Rating\n38 -0.276773           Days with sales Comments-Rating\n39 -0.277607           Basic Sale Rating-Days-Comments\n40 -0.280116                           Comments-Rating\n41 -0.280293                                Comments^2\n42 -0.285645                                  Comments\n43 -0.310690                           Days with sales\n44 -0.316085                Rating Days in stock/sales\n45 -0.330594       Days in stock/sales Comments-Rating\n46 -0.331614  Days in stock/sales Rating-Days-Comments\n47 -0.351553              Comments Days in stock/sales\n48 -0.361781                Days with sales Basic Sale\n49 -0.370724                     Days in stock/sales^2\n50 -0.383335             Comments Rating-Days-Comments\n51 -0.393961                  Comments Days with sales\n52 -0.407755                         Comments-Rating^2\n53 -0.410836       Days with sales Days in stock/sales",
      "text/html": "<div>\n<style scoped>\n    .dataframe tbody tr th:only-of-type {\n        vertical-align: middle;\n    }\n\n    .dataframe tbody tr th {\n        vertical-align: top;\n    }\n\n    .dataframe thead th {\n        text-align: right;\n    }\n</style>\n<table border=\"1\" class=\"dataframe\">\n  <thead>\n    <tr style=\"text-align: right;\">\n      <th></th>\n      <th>Score</th>\n      <th>Name</th>\n    </tr>\n  </thead>\n  <tbody>\n    <tr>\n      <th>0</th>\n      <td>0.101254</td>\n      <td>Rating^2</td>\n    </tr>\n    <tr>\n      <th>1</th>\n      <td>0.050081</td>\n      <td>Days in stock Rating</td>\n    </tr>\n    <tr>\n      <th>2</th>\n      <td>0.025588</td>\n      <td>Basic Sale Comments-Rating</td>\n    </tr>\n    <tr>\n      <th>3</th>\n      <td>0.000000</td>\n      <td>1</td>\n    </tr>\n    <tr>\n      <th>4</th>\n      <td>-0.018182</td>\n      <td>Days with sales Rating-Days-Comments</td>\n    </tr>\n    <tr>\n      <th>5</th>\n      <td>-0.021690</td>\n      <td>Basic Sale Days in stock/sales</td>\n    </tr>\n    <tr>\n      <th>6</th>\n      <td>-0.038039</td>\n      <td>Comments Basic Sale</td>\n    </tr>\n    <tr>\n      <th>7</th>\n      <td>-0.042714</td>\n      <td>Days with sales Rating</td>\n    </tr>\n    <tr>\n      <th>8</th>\n      <td>-0.044908</td>\n      <td>Rating Rating-Days-Comments</td>\n    </tr>\n    <tr>\n      <th>9</th>\n      <td>-0.055098</td>\n      <td>Basic Sale^2</td>\n    </tr>\n    <tr>\n      <th>10</th>\n      <td>-0.057782</td>\n      <td>Days in stock Basic Sale</td>\n    </tr>\n    <tr>\n      <th>11</th>\n      <td>-0.057904</td>\n      <td>Brand Basic Sale</td>\n    </tr>\n    <tr>\n      <th>12</th>\n      <td>-0.060081</td>\n      <td>Days in stock Rating-Days-Comments</td>\n    </tr>\n    <tr>\n      <th>13</th>\n      <td>-0.092658</td>\n      <td>Days in stock^2</td>\n    </tr>\n    <tr>\n      <th>14</th>\n      <td>-0.098949</td>\n      <td>Days in stock</td>\n    </tr>\n    <tr>\n      <th>15</th>\n      <td>-0.107949</td>\n      <td>Basic Sale</td>\n    </tr>\n    <tr>\n      <th>16</th>\n      <td>-0.111019</td>\n      <td>Brand Rating</td>\n    </tr>\n    <tr>\n      <th>17</th>\n      <td>-0.122315</td>\n      <td>Rating</td>\n    </tr>\n    <tr>\n      <th>18</th>\n      <td>-0.133002</td>\n      <td>Brand Days in stock</td>\n    </tr>\n    <tr>\n      <th>19</th>\n      <td>-0.154540</td>\n      <td>Brand Days in stock/sales</td>\n    </tr>\n    <tr>\n      <th>20</th>\n      <td>-0.159671</td>\n      <td>Days in stock Days with sales</td>\n    </tr>\n    <tr>\n      <th>21</th>\n      <td>-0.159726</td>\n      <td>Rating-Days-Comments</td>\n    </tr>\n    <tr>\n      <th>22</th>\n      <td>-0.160054</td>\n      <td>Brand^2</td>\n    </tr>\n    <tr>\n      <th>23</th>\n      <td>-0.160931</td>\n      <td>Days in stock Comments-Rating</td>\n    </tr>\n    <tr>\n      <th>24</th>\n      <td>-0.164049</td>\n      <td>Brand</td>\n    </tr>\n    <tr>\n      <th>25</th>\n      <td>-0.173168</td>\n      <td>Days in stock Days in stock/sales</td>\n    </tr>\n    <tr>\n      <th>26</th>\n      <td>-0.175119</td>\n      <td>Rating Comments-Rating</td>\n    </tr>\n    <tr>\n      <th>27</th>\n      <td>-0.195370</td>\n      <td>Brand Comments</td>\n    </tr>\n    <tr>\n      <th>28</th>\n      <td>-0.201769</td>\n      <td>Comments Days in stock</td>\n    </tr>\n    <tr>\n      <th>29</th>\n      <td>-0.208818</td>\n      <td>Rating Basic Sale</td>\n    </tr>\n    <tr>\n      <th>30</th>\n      <td>-0.209909</td>\n      <td>Comments-Rating Rating-Days-Comments</td>\n    </tr>\n    <tr>\n      <th>31</th>\n      <td>-0.219774</td>\n      <td>Brand Comments-Rating</td>\n    </tr>\n    <tr>\n      <th>32</th>\n      <td>-0.220601</td>\n      <td>Brand Rating-Days-Comments</td>\n    </tr>\n    <tr>\n      <th>33</th>\n      <td>-0.246845</td>\n      <td>Days in stock/sales</td>\n    </tr>\n    <tr>\n      <th>34</th>\n      <td>-0.260744</td>\n      <td>Brand Days with sales</td>\n    </tr>\n    <tr>\n      <th>35</th>\n      <td>-0.262172</td>\n      <td>Days with sales^2</td>\n    </tr>\n    <tr>\n      <th>36</th>\n      <td>-0.267390</td>\n      <td>Comments Rating</td>\n    </tr>\n    <tr>\n      <th>37</th>\n      <td>-0.267413</td>\n      <td>Comments Comments-Rating</td>\n    </tr>\n    <tr>\n      <th>38</th>\n      <td>-0.276773</td>\n      <td>Days with sales Comments-Rating</td>\n    </tr>\n    <tr>\n      <th>39</th>\n      <td>-0.277607</td>\n      <td>Basic Sale Rating-Days-Comments</td>\n    </tr>\n    <tr>\n      <th>40</th>\n      <td>-0.280116</td>\n      <td>Comments-Rating</td>\n    </tr>\n    <tr>\n      <th>41</th>\n      <td>-0.280293</td>\n      <td>Comments^2</td>\n    </tr>\n    <tr>\n      <th>42</th>\n      <td>-0.285645</td>\n      <td>Comments</td>\n    </tr>\n    <tr>\n      <th>43</th>\n      <td>-0.310690</td>\n      <td>Days with sales</td>\n    </tr>\n    <tr>\n      <th>44</th>\n      <td>-0.316085</td>\n      <td>Rating Days in stock/sales</td>\n    </tr>\n    <tr>\n      <th>45</th>\n      <td>-0.330594</td>\n      <td>Days in stock/sales Comments-Rating</td>\n    </tr>\n    <tr>\n      <th>46</th>\n      <td>-0.331614</td>\n      <td>Days in stock/sales Rating-Days-Comments</td>\n    </tr>\n    <tr>\n      <th>47</th>\n      <td>-0.351553</td>\n      <td>Comments Days in stock/sales</td>\n    </tr>\n    <tr>\n      <th>48</th>\n      <td>-0.361781</td>\n      <td>Days with sales Basic Sale</td>\n    </tr>\n    <tr>\n      <th>49</th>\n      <td>-0.370724</td>\n      <td>Days in stock/sales^2</td>\n    </tr>\n    <tr>\n      <th>50</th>\n      <td>-0.383335</td>\n      <td>Comments Rating-Days-Comments</td>\n    </tr>\n    <tr>\n      <th>51</th>\n      <td>-0.393961</td>\n      <td>Comments Days with sales</td>\n    </tr>\n    <tr>\n      <th>52</th>\n      <td>-0.407755</td>\n      <td>Comments-Rating^2</td>\n    </tr>\n    <tr>\n      <th>53</th>\n      <td>-0.410836</td>\n      <td>Days with sales Days in stock/sales</td>\n    </tr>\n  </tbody>\n</table>\n</div>"
     },
     "execution_count": 13,
     "metadata": {},
     "output_type": "execute_result"
    }
   ],
   "source": [
    "# print(res.header_top_features_)\n",
    "# print(np.array(res.feat_score)[res.top_features_][:,1], np.array(res.headers)[res.top_features_])\n",
    "reports = pd.DataFrame({'Score': np.array(res.feat_score)[res.top_features_][:,1], 'Name': np.array(res.headers)[res.top_features_]})\n",
    "# {'Score': np.array(res.feat_score)[res.top_features_], 'Name': np.array(res.headers)[res.top_features_]}\n",
    "# reports['Score'] = np.array(res.feat_score)[res.top_features_]\n",
    "\n",
    "reports.to_csv('../processed-datasets/feature_socres.csv')\n",
    "reports"
   ],
   "metadata": {
    "collapsed": false
   }
  },
  {
   "cell_type": "code",
   "execution_count": null,
   "outputs": [],
   "source": [],
   "metadata": {
    "collapsed": false
   }
  }
 ],
 "metadata": {
  "kernelspec": {
   "display_name": "Python 3",
   "language": "python",
   "name": "python3"
  },
  "language_info": {
   "codemirror_mode": {
    "name": "ipython",
    "version": 2
   },
   "file_extension": ".py",
   "mimetype": "text/x-python",
   "name": "python",
   "nbconvert_exporter": "python",
   "pygments_lexer": "ipython2",
   "version": "2.7.6"
  }
 },
 "nbformat": 4,
 "nbformat_minor": 0
}
